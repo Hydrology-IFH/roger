{
 "cells": [
  {
   "cell_type": "markdown",
   "metadata": {},
   "source": [
    "# SVAT tutorial running the RoGeR via the Basic model interface (BMI)\n",
    "\n",
    "We recommend using the BMI for coupling RoGeR with other models (e.g. a groundwater model). Using the BMI has the advantage to update the model variables at runtime (e.g. after each time step). Such a coupling mechanism enables (i.e. online coupling) the representation of direct feedbacks, for example, the feedback between percolation, capillary rise and groundwater table.\n",
    "\n",
    "Start by importing the Python program libraries:"
   ]
  },
  {
   "cell_type": "code",
   "execution_count": null,
   "metadata": {
    "vscode": {
     "languageId": "plaintext"
    }
   },
   "outputs": [],
   "source": [
    "from pathlib import Path\n",
    "import numpy as np\n",
    "from bmiroger import BmiRoger\n",
    "base_path = Path(__file__).parent"
   ]
  },
  {
   "cell_type": "markdown",
   "metadata": {},
   "source": [
    "We import the model type. Here, we use the SVAT model:"
   ]
  },
  {
   "cell_type": "code",
   "execution_count": null,
   "metadata": {
    "vscode": {
     "languageId": "plaintext"
    }
   },
   "outputs": [],
   "source": [
    "from roger.bmimodels.svat import SVATSetup\n",
    "model = SVATSetup(base_path)"
   ]
  },
  {
   "cell_type": "markdown",
   "metadata": {},
   "source": [
    "Other RoGeR model types could be used, as well.\n",
    "\n",
    "Now, we initialize the BMI of the RoGeR model:"
   ]
  },
  {
   "cell_type": "code",
   "execution_count": null,
   "metadata": {
    "vscode": {
     "languageId": "plaintext"
    }
   },
   "outputs": [],
   "source": [
    "interface = BmiRoger(model=model)\n",
    "interface.initialize(base_path)"
   ]
  },
  {
   "cell_type": "markdown",
   "metadata": {},
   "source": [
    "The BMI is ready to start the simulation.\n",
    "\n",
    "The following code snippet runs the model for the entire simulation period:"
   ]
  },
  {
   "cell_type": "code",
   "execution_count": null,
   "metadata": {
    "vscode": {
     "languageId": "plaintext"
    }
   },
   "outputs": [],
   "source": [
    "while interface.get_current_time() < interface.get_end_time():\n",
    "    interface.update_until(interface._model._config[\"OUTPUT_FREQUENCY\"])\n",
    "    # get variables for coupling as numpy arrays\n",
    "    perc = np.zeros(interface.get_grid_node_count())\n",
    "    interface.get_value(\"q_ss\", perc)\n",
    "    # add here a groundwater model and use perc as upper boundary condition\n",
    "    # update variables from another model\n",
    "    # here we use a dummy value for the groundwater level\n",
    "    z_gw = np.zeros(interface.get_grid_node_count())\n",
    "    z_gw[:] = 12.0\n",
    "    interface.set_value(\"z_gw\", z_gw)\n",
    "interface.finalize()"
   ]
  }
 ],
 "metadata": {
  "language_info": {
   "name": "python"
  },
  "orig_nbformat": 4
 },
 "nbformat": 4,
 "nbformat_minor": 2
}
